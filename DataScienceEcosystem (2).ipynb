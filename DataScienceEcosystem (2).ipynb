{
 "cells": [
  {
   "cell_type": "markdown",
   "id": "07b4f32b-80cb-46d5-879a-2fdeb5e5c183",
   "metadata": {},
   "source": [
    "# Data Science Tools and Ecosystem"
   ]
  },
  {
   "cell_type": "code",
   "execution_count": null,
   "id": "ded512c7-d1f2-4ecf-a9dd-1b28bd3f562f",
   "metadata": {},
   "outputs": [],
   "source": []
  },
  {
   "cell_type": "markdown",
   "id": "75911f5f-83bf-4a28-aa4a-7d75b477e4f9",
   "metadata": {
    "tags": []
   },
   "source": [
    "### Below are a few examples of evaluating arithmetic expressions in Python."
   ]
  },
  {
   "cell_type": "markdown",
   "id": "05b3bf71-0b9d-455b-96e4-4270fa6abdc7",
   "metadata": {
    "tags": []
   },
   "source": [
    "# This is a simple arithmetic expression to multiply then add integers\n"
   ]
  },
  {
   "cell_type": "code",
   "execution_count": null,
   "id": "5ecb0c54-3e62-4540-b475-1f062f642d30",
   "metadata": {
    "tags": []
   },
   "outputs": [],
   "source": [
    "# This is a simple arithmetic expression to multiply then add integers\n",
    "result = (3 * 4) + 5\n",
    "result"
   ]
  },
  {
   "cell_type": "markdown",
   "id": "ee8e959f-faaa-41f6-a22a-80ab2f456f72",
   "metadata": {
    "tags": []
   },
   "source": [
    "# This will convert 200 minutes to hours by dividing by 60\n",
    "minutes = 200\n",
    "hours = minutes / 60\n",
    "hours"
   ]
  },
  {
   "cell_type": "markdown",
   "id": "ca5558a4-6596-4895-ad60-ea7503c8c99b",
   "metadata": {
    "tags": []
   },
   "source": [
    "# This will convert 200 minutes to hours by dividing by 60\n",
    "minutes = 200\n",
    "hours = minutes / 60\n",
    "hours"
   ]
  },
  {
   "cell_type": "code",
   "execution_count": 11,
   "id": "bfecc00e-1ddb-436b-9bf1-7afeda50e8fc",
   "metadata": {
    "tags": []
   },
   "outputs": [
    {
     "data": {
      "text/plain": [
       "3.3333333333333335"
      ]
     },
     "execution_count": 11,
     "metadata": {},
     "output_type": "execute_result"
    }
   ],
   "source": [
    "200/60"
   ]
  },
  {
   "cell_type": "markdown",
   "id": "f1af697a-6ce1-45cd-8afe-840379b7b854",
   "metadata": {},
   "source": [
    "# Objectives\n",
    "* List popular languages for Data Science\n",
    "* Use Jupyter Markdown and code\n",
    "* Use Github\n",
    "* RStudio\n",
    "\n"
   ]
  },
  {
   "cell_type": "markdown",
   "id": "032ad781-f7ee-4628-bcc0-e100fe0ac9b8",
   "metadata": {},
   "source": [
    "# Objectives\n",
    "* List popular languages for Data Science\n",
    "* Use Jupyter Markdown and code\n",
    "* Use Github\n",
    "* RStudio\n",
    "\n"
   ]
  },
  {
   "cell_type": "markdown",
   "id": "7140b941-1eb3-49d4-9f41-d25e805b2891",
   "metadata": {},
   "source": [
    "## Stephanie Contreras Author"
   ]
  },
  {
   "cell_type": "markdown",
   "id": "ec3bfd7c-0174-4a7c-a833-c85f664b4388",
   "metadata": {},
   "source": [
    "## Stephanie Contreras Author"
   ]
  }
 ],
 "metadata": {
  "kernelspec": {
   "display_name": "Python",
   "language": "python",
   "name": "conda-env-python-py"
  },
  "language_info": {
   "codemirror_mode": {
    "name": "ipython",
    "version": 3
   },
   "file_extension": ".py",
   "mimetype": "text/x-python",
   "name": "python",
   "nbconvert_exporter": "python",
   "pygments_lexer": "ipython3",
   "version": "3.7.12"
  }
 },
 "nbformat": 4,
 "nbformat_minor": 5
}

